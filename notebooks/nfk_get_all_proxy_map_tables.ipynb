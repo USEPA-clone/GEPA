{
 "cells": [
  {
   "cell_type": "code",
   "execution_count": 50,
   "metadata": {},
   "outputs": [],
   "source": [
    "from pathlib import Path\n",
    "import pandas as pd"
   ]
  },
  {
   "cell_type": "code",
   "execution_count": 51,
   "metadata": {},
   "outputs": [],
   "source": [
    "ghgi_v2_dir = Path(\"C:/Users/nkruskamp/Environmental Protection Agency (EPA)/Gridded CH4 Inventory - GEPA_Source_Code\")\n",
    "data_dir = Path(\"C:/Users/nkruskamp/Research Triangle Institute/EPA Gridded Methane - Task 2/data\")"
   ]
  },
  {
   "cell_type": "code",
   "execution_count": 52,
   "metadata": {},
   "outputs": [
    {
     "data": {
      "text/plain": [
       "[WindowsPath('C:/Users/nkruskamp/Environmental Protection Agency (EPA)/Gridded CH4 Inventory - GEPA_Source_Code/GEPA_2022_Supplement/GEPA_PostMeter/InputData/PostMeter_ProxyMapping.xlsx'),\n",
       " WindowsPath('C:/Users/nkruskamp/Environmental Protection Agency (EPA)/Gridded CH4 Inventory - GEPA_Source_Code/GEPA_Abandoned_Coal/InputData/AbandonedCoal_ProxyMapping.xlsx'),\n",
       " WindowsPath('C:/Users/nkruskamp/Environmental Protection Agency (EPA)/Gridded CH4 Inventory - GEPA_Source_Code/GEPA_Coal/InputData/Coal_ProxyMapping.xlsx'),\n",
       " WindowsPath('C:/Users/nkruskamp/Environmental Protection Agency (EPA)/Gridded CH4 Inventory - GEPA_Source_Code/GEPA_Combustion_Mobile/InputData/MobileCombustion_ProxyMapping.xlsx'),\n",
       " WindowsPath('C:/Users/nkruskamp/Environmental Protection Agency (EPA)/Gridded CH4 Inventory - GEPA_Source_Code/GEPA_Combustion_Stationary/InputData/StationaryCombustion_ProxyMapping.xlsx'),\n",
       " WindowsPath('C:/Users/nkruskamp/Environmental Protection Agency (EPA)/Gridded CH4 Inventory - GEPA_Source_Code/GEPA_Composting/InputData/Composting_ProxyMapping.xlsx'),\n",
       " WindowsPath('C:/Users/nkruskamp/Environmental Protection Agency (EPA)/Gridded CH4 Inventory - GEPA_Source_Code/GEPA_Field_Burning/InputData/FieldBurning_ProxyMapping.xlsx'),\n",
       " WindowsPath('C:/Users/nkruskamp/Environmental Protection Agency (EPA)/Gridded CH4 Inventory - GEPA_Source_Code/GEPA_Gas_Distribution/InputData/NaturalGas_Distribution_ProxyMapping.xlsx'),\n",
       " WindowsPath('C:/Users/nkruskamp/Environmental Protection Agency (EPA)/Gridded CH4 Inventory - GEPA_Source_Code/GEPA_Gas_Processing/InputData/NaturalGas_Processing_ProxyMapping.xlsx'),\n",
       " WindowsPath('C:/Users/nkruskamp/Environmental Protection Agency (EPA)/Gridded CH4 Inventory - GEPA_Source_Code/GEPA_Gas_Production/InputData/NaturalGas_Production_ProxyMapping.xlsx'),\n",
       " WindowsPath('C:/Users/nkruskamp/Environmental Protection Agency (EPA)/Gridded CH4 Inventory - GEPA_Source_Code/GEPA_Gas_Transmission/InputData/NaturalGas_TransmissionStorage_ProxyMapping.xlsx'),\n",
       " WindowsPath('C:/Users/nkruskamp/Environmental Protection Agency (EPA)/Gridded CH4 Inventory - GEPA_Source_Code/GEPA_Industry/InputData/Industry_ProxyMapping.xlsx'),\n",
       " WindowsPath('C:/Users/nkruskamp/Environmental Protection Agency (EPA)/Gridded CH4 Inventory - GEPA_Source_Code/GEPA_Landfills/InputData/Landfills_ProxyMapping.xlsx'),\n",
       " WindowsPath('C:/Users/nkruskamp/Environmental Protection Agency (EPA)/Gridded CH4 Inventory - GEPA_Source_Code/GEPA_Livestock/InputData/Livestock_Enteric_ProxyMapping.xlsx'),\n",
       " WindowsPath('C:/Users/nkruskamp/Environmental Protection Agency (EPA)/Gridded CH4 Inventory - GEPA_Source_Code/GEPA_Livestock/InputData/Livestock_Manure_ProxyMapping.xlsx'),\n",
       " WindowsPath('C:/Users/nkruskamp/Environmental Protection Agency (EPA)/Gridded CH4 Inventory - GEPA_Source_Code/GEPA_Petroleum/InputData/Petroleum_ProxyMapping.xlsx'),\n",
       " WindowsPath('C:/Users/nkruskamp/Environmental Protection Agency (EPA)/Gridded CH4 Inventory - GEPA_Source_Code/GEPA_Rice_Cultivation/InputData/Rice_ProxyMapping.xlsx'),\n",
       " WindowsPath('C:/Users/nkruskamp/Environmental Protection Agency (EPA)/Gridded CH4 Inventory - GEPA_Source_Code/GEPA_Wastewater/InputData/WastewaterTreatment_ProxyMapping.xlsx')]"
      ]
     },
     "execution_count": 52,
     "metadata": {},
     "output_type": "execute_result"
    }
   ],
   "source": [
    "file_list = []\n",
    "for x in list(ghgi_v2_dir.glob(\"*\")):\n",
    "    # there is something wrong with this folder, so skip it. Hence why this is a more complicated loop.\n",
    "    if \"Final_Gridded_Data\" in str(x):\n",
    "        continue\n",
    "    if x.is_dir():\n",
    "        file_list.extend(list(x.rglob(\"*ProxyMapping*.xlsx\")))\n",
    "file_list"
   ]
  },
  {
   "cell_type": "code",
   "execution_count": 53,
   "metadata": {},
   "outputs": [],
   "source": [
    "proxy_df_list = []\n",
    "for xl_file_path in file_list:\n",
    "    # get the sector name for the file\n",
    "    sector_name = xl_file_path.parents[1].name.split(\"_\")[1]\n",
    "    # get the excel file\n",
    "    xl = pd.ExcelFile(xl_file_path)\n",
    "    # get the sheet name if it has proxy mappings\n",
    "    sheet_name = [x for x in xl.sheet_names if \"Proxy Map\" in x]\n",
    "    # if it does have a proxy mapping sheet:\n",
    "    if sheet_name:\n",
    "        # read the file, assign the sector name to column. Add to list\n",
    "        proxy_df_list.append(xl.parse(sheet_name[0], header=1).assign(sector=sector_name))\n",
    "    else:\n",
    "        print(\"sheet not found\")"
   ]
  },
  {
   "cell_type": "code",
   "execution_count": 54,
   "metadata": {},
   "outputs": [],
   "source": [
    "# concat all proxy mapping dataframes together.\n",
    "proxy_df = pd.concat(proxy_df_list).assign(\n",
    "    # consolidate different proxy description columns into a single one called description\n",
    "    description=lambda df: df.loc[:, df.columns.str.contains(\"Proxy_Description\")]\n",
    "    .astype(str)\n",
    "    .agg(\", \".join, axis=1),\n",
    ")\n",
    "# remove old proxy description columns\n",
    "proxy_df = proxy_df.loc[:, ~df.columns.str.contains(\"Proxy_Description\")]\n",
    "# save to a file\n",
    "proxy_df.to_csv(data_dir / \"all_proxy_mappings.csv\")\n"
   ]
  },
  {
   "cell_type": "code",
   "execution_count": 55,
   "metadata": {},
   "outputs": [
    {
     "name": "stderr",
     "output_type": "stream",
     "text": [
      "c:\\Users\\nkruskamp\\AppData\\Local\\mambaforge\\envs\\disease_raster_align\\lib\\site-packages\\openpyxl\\worksheet\\_read_only.py:81: UserWarning: Data Validation extension is not supported and will be removed\n",
      "  for idx, row in parser.parse():\n"
     ]
    }
   ],
   "source": [
    "ghgi_df_list = []\n",
    "for xl_file_path in file_list:\n",
    "    # get the sector name for the file\n",
    "    sector_name = xl_file_path.parents[1].name.split(\"_\")[1]\n",
    "    # get the excel file\n",
    "    xl = pd.ExcelFile(xl_file_path)\n",
    "    # get the sheet name if it has proxy mappings\n",
    "    sheet_name = [x for x in xl.sheet_names if \"GHGI Map\" in x]\n",
    "    # if it does have a proxy mapping sheet:\n",
    "    if sheet_name:\n",
    "        # read the file, assign the sector name to column. Add to list\n",
    "        ghgi_df_list.append(xl.parse(sheet_name[0], header=1).assign(sector=sector_name))\n",
    "    else:\n",
    "        print(\"sheet not found\")"
   ]
  },
  {
   "cell_type": "code",
   "execution_count": 59,
   "metadata": {},
   "outputs": [],
   "source": [
    "ghgi_df = pd.concat(ghgi_df_list).assign(\n",
    "    # consolidate different proxy description columns into a single one called description\n",
    "    description=lambda df: df.loc[:, df.columns.str.contains(\"Proxy_Description\")]\n",
    "    .astype(str)\n",
    "    .agg(\", \".join, axis=1),\n",
    ")\n",
    "ghgi_df.to_csv(data_dir / \"all_ghgi_mappings.csv\")"
   ]
  },
  {
   "cell_type": "code",
   "execution_count": null,
   "metadata": {},
   "outputs": [],
   "source": []
  }
 ],
 "metadata": {
  "kernelspec": {
   "display_name": "disease_raster_align",
   "language": "python",
   "name": "python3"
  },
  "language_info": {
   "codemirror_mode": {
    "name": "ipython",
    "version": 3
   },
   "file_extension": ".py",
   "mimetype": "text/x-python",
   "name": "python",
   "nbconvert_exporter": "python",
   "pygments_lexer": "ipython3",
   "version": "3.10.12"
  }
 },
 "nbformat": 4,
 "nbformat_minor": 2
}
